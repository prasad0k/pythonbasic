{
 "cells": [
  {
   "cell_type": "code",
   "execution_count": 21,
   "id": "fd36bde1-0e28-41a3-9bd3-84ff246ff96e",
   "metadata": {},
   "outputs": [
    {
     "name": "stdout",
     "output_type": "stream",
     "text": [
      "[1, 2, 3, 4.4, 8, 'wprb']\n",
      "<class 'list'>\n",
      "4.4\n",
      "<class 'list'>\n",
      "wprb\n"
     ]
    }
   ],
   "source": [
    "a=[1,2,3,4.4,8,\"wprb\"]\n",
    "print(a)\n",
    "print(type(a))\n",
    "print(a[3])\n",
    "print(type(a))\n",
    "print(a[5])\n"
   ]
  },
  {
   "cell_type": "code",
   "execution_count": 19,
   "id": "f54a851d-d7f3-4f05-ace9-43ed95ab28cc",
   "metadata": {},
   "outputs": [
    {
     "name": "stdout",
     "output_type": "stream",
     "text": [
      "1\n",
      "2\n",
      "5\n",
      "7.7\n"
     ]
    }
   ],
   "source": [
    "x=[1,2,5,7.7,]\n",
    "for a in range(0,4):\n",
    "    print(x[a])"
   ]
  },
  {
   "cell_type": "markdown",
   "id": "777143c8-ef60-4620-865e-f80be5595e94",
   "metadata": {},
   "source": [
    "->pop to pull out element of the list \n",
    "->append is use to append the object to the end of the list\n",
    "->extend lis t by\n",
    "->copy is used to creat a list\n",
    "->index return to the first index of value\n",
    "->count return no. of occurence of a value\n",
    "->insert object before insert\n",
    "->remove first occurence of a value\n",
    "->sort the list in ascending order and return none\n",
    "->len (list)is used to find length\n"
   ]
  },
  {
   "cell_type": "code",
   "execution_count": 16,
   "id": "9976803b-e624-4f63-a89f-1ab9d8b46ec0",
   "metadata": {},
   "outputs": [
    {
     "name": "stdout",
     "output_type": "stream",
     "text": [
      "[1, 2, 3, 4, 5]\n",
      "5\n",
      "[1, 2, 3, 4]\n",
      "[1, 2, 3, 4, 22]\n",
      "1\n",
      "[1, 2, 4, 22]\n",
      "[22, 4, 2, 1]\n",
      "4\n"
     ]
    }
   ],
   "source": [
    "a=[1,2,3,4,5]\n",
    "b=a.copy()\n",
    "print(b)\n",
    "\n",
    "c=b.pop(4)\n",
    "print(c)\n",
    "\n",
    "print(b)\n",
    "c=b.append(22)\n",
    "print(b)\n",
    "\n",
    "print(b.index(3))\n",
    "\n",
    "b.remove(2)\n",
    "print(b)\n",
    "\n",
    "b.sort(reverse=True)\n",
    "print(b)\n",
    "\n",
    "print(len(b))"
   ]
  },
  {
   "cell_type": "code",
   "execution_count": 17,
   "id": "7eac59b2-4828-4cee-b7f3-3bda8bc949f5",
   "metadata": {},
   "outputs": [
    {
     "name": "stdin",
     "output_type": "stream",
     "text": [
      "enter the size of the list: 5\n",
      " 01\n",
      " 44\n",
      " 8.8\n",
      " 3\n",
      " 4\n"
     ]
    },
    {
     "name": "stdout",
     "output_type": "stream",
     "text": [
      "['01', '44', '8.8', '3', '4']\n"
     ]
    }
   ],
   "source": [
    "n=int(input(\"enter the size of the list:\"))\n",
    "a=[]\n",
    "for x in range(0,n):\n",
    "    x=input()\n",
    "    a.append(x)\n",
    "print(a)"
   ]
  },
  {
   "cell_type": "code",
   "execution_count": 11,
   "id": "d8cbde61-7100-4286-a231-fe80f1e38de7",
   "metadata": {},
   "outputs": [
    {
     "name": "stdin",
     "output_type": "stream",
     "text": [
      "enter the elements of the list: 1 3 5 7 9\n"
     ]
    },
    {
     "name": "stdout",
     "output_type": "stream",
     "text": [
      "[1, 3, 5, 7, 9]\n"
     ]
    }
   ],
   "source": [
    "L=[int(item)for item in (input(\"enter the elements of the list:\")).split()]\n",
    "print(L)\n",
    "                         "
   ]
  },
  {
   "cell_type": "code",
   "execution_count": 23,
   "id": "36277cbc-e381-402b-8a68-82f0f839de96",
   "metadata": {},
   "outputs": [
    {
     "name": "stdout",
     "output_type": "stream",
     "text": [
      "5\n",
      "4\n",
      "3\n",
      "2\n",
      "1\n"
     ]
    }
   ],
   "source": [
    "a=(1 ,2, 3, 4, 5)\n",
    "for x in range(-1,-1*(len(a)+1),-1):\n",
    "    print(a[x])"
   ]
  },
  {
   "cell_type": "code",
   "execution_count": 22,
   "id": "0223df56-ebc2-4459-a94b-27cdd38e56c2",
   "metadata": {},
   "outputs": [
    {
     "name": "stdout",
     "output_type": "stream",
     "text": [
      "9\n",
      "8\n",
      "7\n",
      "6\n",
      "5\n",
      "4\n",
      "3\n",
      "2\n",
      "1\n"
     ]
    }
   ],
   "source": [
    "a=(1,2,3,4,5,6,7,8,9)\n",
    "for x in range(0,len(a)):\n",
    "    print(a[-1*(x+1)])"
   ]
  },
  {
   "cell_type": "markdown",
   "id": "5d181afa-2d31-44f4-9287-ca0f6f401f93",
   "metadata": {},
   "source": [
    "-> dictionary is a key and values or key values pair"
   ]
  },
  {
   "cell_type": "markdown",
   "id": "953a7379-b359-41e8-bbbe-6a6c3bffeef1",
   "metadata": {},
   "source": [
    "write a program to take key and value as input of the user and add it in to the dictionary and if key is not present  , otherwise print key already exists and print its value"
   ]
  },
  {
   "cell_type": "code",
   "execution_count": 3,
   "id": "8e2566bc-46d5-4e63-8d42-bdf3fd6c2784",
   "metadata": {},
   "outputs": [
    {
     "name": "stdin",
     "output_type": "stream",
     "text": [
      "Enter the length of series: 5\n"
     ]
    },
    {
     "name": "stdout",
     "output_type": "stream",
     "text": [
      "0 1 1 2 3 "
     ]
    }
   ],
   "source": [
    "a=0\n",
    "b=1\n",
    "n = int(input(\"Enter the length of series:\" ))\n",
    "print(a,b,end=\" \")\n",
    "\n",
    "for x in range(0,n-2):\n",
    "    c=a+b\n",
    "    print(c,end=\" \")\n",
    "    a=b\n",
    "    b=c"
   ]
  },
  {
   "cell_type": "code",
   "execution_count": 6,
   "id": "acd7c6c5-e00f-4952-9bf8-b7fec2c625c0",
   "metadata": {},
   "outputs": [
    {
     "name": "stdin",
     "output_type": "stream",
     "text": [
      "enter the index : 6\n"
     ]
    },
    {
     "name": "stdout",
     "output_type": "stream",
     "text": [
      "7\n"
     ]
    }
   ],
   "source": [
    "k=[1,2,3,4,5,6,7,8,9,10]\n",
    "i=int(input(\"enter the index :\"))\n",
    "try:\n",
    "            print(k[i])\n",
    "except:\n",
    "            print(\"there is no such index\")"
   ]
  },
  {
   "cell_type": "code",
   "execution_count": 1,
   "id": "8cd8b6a8-d8c2-404f-91d7-b774ca6f1543",
   "metadata": {},
   "outputs": [
    {
     "name": "stdin",
     "output_type": "stream",
     "text": [
      " 5\n",
      " 6\n"
     ]
    },
    {
     "name": "stdout",
     "output_type": "stream",
     "text": [
      "some unknown error found\n",
      "code execution done\n"
     ]
    }
   ],
   "source": [
    "try:\n",
    "    a=input()\n",
    "    b=input()\n",
    "    c=int(a)/int(b)\n",
    "    x=\"hello\"/3\n",
    "except ValueError:\n",
    "    print(\"value unable to convert\")\n",
    "except ZeroDivisionError:\n",
    "    print(\"cant divide by zero\")\n",
    "except:\n",
    "    print(\"some unknown error found\")\n",
    "else:\n",
    "    print(\"no error\")\n",
    "finally:\n",
    "    print(\"code execution done\")"
   ]
  },
  {
   "cell_type": "code",
   "execution_count": null,
   "id": "30919c9f-891c-4896-8934-886b0611183a",
   "metadata": {},
   "outputs": [],
   "source": []
  }
 ],
 "metadata": {
  "kernelspec": {
   "display_name": "Python 3 (ipykernel)",
   "language": "python",
   "name": "python3"
  },
  "language_info": {
   "codemirror_mode": {
    "name": "ipython",
    "version": 3
   },
   "file_extension": ".py",
   "mimetype": "text/x-python",
   "name": "python",
   "nbconvert_exporter": "python",
   "pygments_lexer": "ipython3",
   "version": "3.10.2"
  }
 },
 "nbformat": 4,
 "nbformat_minor": 5
}
