{
 "cells": [
  {
   "cell_type": "markdown",
   "id": "b5861259-e99c-4bb0-99cf-1dfab705dc51",
   "metadata": {},
   "source": [
    "create a laptop class\n",
    "with variable as processor,ram and storage\n",
    "\n",
    "create function to print the configuration of the laptops\n",
    "\n",
    "create 3 object of laptop with diffrent brand and dispaly its configuration"
   ]
  },
  {
   "cell_type": "code",
   "execution_count": 20,
   "id": "c326a3a3-d01b-4d65-bb9d-cd69672eff0b",
   "metadata": {},
   "outputs": [
    {
     "name": "stdout",
     "output_type": "stream",
     "text": [
      "configuration of the laptop is:\n",
      "proccessor i5\n",
      "ram 8\n",
      "storage 512\n"
     ]
    }
   ],
   "source": [
    "class laptop:\n",
    "  def __init__(self,p,r,s):\n",
    "    self.processor=p\n",
    "    self.ram=r\n",
    "    self.storage=s\n",
    "\n",
    "  def config(self):\n",
    "     print(\"configuration of the laptop is:\")\n",
    "     print(\"proccessor\",self.processor)\n",
    "     print(\"ram\",self.ram)\n",
    "     print(\"storage\",self.storage)\n",
    "      \n",
    "if __name__==\"__main__\":\n",
    "   hp=laptop(\"i5\",8,512)\n",
    "   hp.config()\n",
    "\n",
    "\n",
    " "
   ]
  },
  {
   "cell_type": "code",
   "execution_count": 5,
   "id": "f29573f8-396b-4400-a311-68d1d2bd15ce",
   "metadata": {},
   "outputs": [
    {
     "name": "stdout",
     "output_type": "stream",
     "text": [
      "the marks of students:\n",
      "english 27\n",
      "hindi 28\n",
      "kan 27\n",
      "iot 27\n",
      "idt 29\n",
      "avg 27.6\n"
     ]
    }
   ],
   "source": [
    "##create a class student which can hold the marks in 5 subjects and also create a functions to print the marks and calculate the avg of 5 subjects\n",
    "\n",
    " \n",
    "class student:\n",
    "    def __init__(self,s1,s2,s3,s4,s5):\n",
    "            self.english=s1\n",
    "            self.hindi=s2\n",
    "            self.kan=s3\n",
    "            self.iot=s4\n",
    "            self.idt=s5\n",
    "    def marks(self):\n",
    "        print(\"the marks of students:\")\n",
    "        print(\"english\",self.english)\n",
    "        print(\"hindi\",self.hindi)\n",
    "        print(\"kan\",self.kan)\n",
    "        print(\"iot\",self.iot)\n",
    "        print(\"idt\",self.idt)\n",
    "\n",
    "    def avg(self):\n",
    "        avg=(self.english+self.hindi+self.kan+self.iot+self.idt)/5\n",
    "        print(\"avg\",avg)\n",
    "if __name__==\"__main__\":\n",
    "    ram=student(27,28,27,27,29)\n",
    "    ram.marks()\n",
    "    ram.avg()"
   ]
  },
  {
   "cell_type": "code",
   "execution_count": 19,
   "id": "856c889e-558c-4f43-8d2f-0f140e4f07ac",
   "metadata": {},
   "outputs": [
    {
     "name": "stdout",
     "output_type": "stream",
     "text": [
      "1\n",
      "7\n",
      "8\n"
     ]
    }
   ],
   "source": [
    "##Access modifiers\n",
    "##public normal\n",
    "##protected _\n",
    "##private __\n",
    "\n",
    " \n",
    "class demo:\n",
    "    def __init__(self,a,b,c):\n",
    "        self.x=a\n",
    "        self._y=b\n",
    "        self.__z=c\n",
    "    def output_z(self):\n",
    "        print(self.__z)\n",
    "\n",
    "    def output_x(self):\n",
    "        print(self.x)\n",
    "\n",
    "    def output_y(self):\n",
    "        print(self._y)\n",
    "\n",
    "ob1=demo(1,7,8)\n",
    "ob1.output_x()\n",
    "ob1.output_y()\n",
    "ob1.output_z()\n",
    "\n",
    "\n",
    "        "
   ]
  },
  {
   "cell_type": "code",
   "execution_count": 4,
   "id": "c52ec10f-6b52-4930-85ab-83befc0eee34",
   "metadata": {},
   "outputs": [
    {
     "name": "stdout",
     "output_type": "stream",
     "text": [
      "this is fun1\n",
      "this is fun2\n",
      "this is fun3\n",
      "this is fun4\n",
      "this is fun5\n",
      "this is fun6\n",
      "this is fun7\n",
      "this is fun8\n"
     ]
    }
   ],
   "source": [
    "class a:\n",
    "    def fun1(self):\n",
    "        print(\"this is fun1\")\n",
    "    def fun2(self):\n",
    "        print(\"this is fun2\")\n",
    "\n",
    "class b:\n",
    "    def fun3(self):\n",
    "        print(\"this is fun3\")\n",
    "    def fun4(self):\n",
    "        print(\"this is fun4\")\n",
    "\n",
    "class c:\n",
    "    def fun5(self):\n",
    "        print(\"this is fun5\")\n",
    "    def fun6(self):\n",
    "        print(\"this is fun6\")\n",
    "\n",
    "class d:\n",
    "    def fun7(self):\n",
    "        print(\"this is fun7\")\n",
    "    def fun8(self):\n",
    "        print(\"this is fun8\")\n",
    "\n",
    "\n",
    "\n",
    "if __name__==\"__main__\":\n",
    "    ob1=a()\n",
    "    ob2=b()\n",
    "    ob3=c()\n",
    "    ob4=d()\n",
    "  #\n",
    "\n",
    "    ob1.fun1()\n",
    "    ob1.fun2()\n",
    "    ob2.fun3()\n",
    "    ob2.fun4()\n",
    "    ob3.fun5()\n",
    "    ob3.fun6()\n",
    "    ob4.fun7()\n",
    "    ob4.fun8()\n"
   ]
  },
  {
   "cell_type": "code",
   "execution_count": 11,
   "id": "092662ca-d693-4e08-a5dd-74437babbdf8",
   "metadata": {},
   "outputs": [
    {
     "name": "stdout",
     "output_type": "stream",
     "text": [
      "constructor of class A\n",
      "constructor of class B\n",
      "constructor of class C\n",
      "constructor of class D\n"
     ]
    }
   ],
   "source": [
    "class a:\n",
    "    def __init__(self):\n",
    "        print(\"constructor of class A\")\n",
    "class b:\n",
    "    def __init__(self):\n",
    "        print(\"constructor of class B\")\n",
    "class c:\n",
    "    def __init__(self):\n",
    "        print(\"constructor of class C\")\n",
    "class d:\n",
    "    def __init__(self):\n",
    "        print(\"constructor of class D\")\n",
    "\n",
    "if __name__==\"__main__\":\n",
    "    ob1=a()\n",
    "    ob2=b()\n",
    "    ob3=c()\n",
    "    ob4=d()\n",
    "\n",
    "\n",
    "    "
   ]
  },
  {
   "cell_type": "code",
   "execution_count": 17,
   "id": "a07415d5-9c29-4a17-97fd-99dee76936d1",
   "metadata": {},
   "outputs": [
    {
     "name": "stdout",
     "output_type": "stream",
     "text": [
      "constructor of class B\n"
     ]
    }
   ],
   "source": [
    "class a(b):\n",
    "    def __init__(self):\n",
    "        print(\"constructor of class A\")\n",
    "class b(c,d):\n",
    "    def __init__(self):\n",
    "        print(\"constructor of class B\")\n",
    "class c:\n",
    "    def __init__(self):\n",
    "        print(\"constructor of class C\")\n",
    "class d:\n",
    "    def __init__(self):\n",
    "        print(\"constructor of class D\")\n",
    "\n",
    "if __name__==\"__main__\":\n",
    "    ob1=b()"
   ]
  },
  {
   "cell_type": "code",
   "execution_count": 7,
   "id": "69263c95-ddfa-4c3c-8c77-c14e2964d994",
   "metadata": {},
   "outputs": [
    {
     "name": "stdout",
     "output_type": "stream",
     "text": [
      "professional laptop i5 8gb 512 800mah\n"
     ]
    }
   ],
   "source": [
    "class laptop:\n",
    "    def __init__(self,p,r,s):\n",
    "        self.processor=p\n",
    "        self.ram=r\n",
    "        self.storage=s\n",
    "\n",
    "class professional_laptop(laptop):\n",
    "    def __init__(self,bat,p,r,s):\n",
    "        self.battery=bat\n",
    "        super().__init__(p,r,s)\n",
    "\n",
    "class gaming(laptop):\n",
    "    def __init__(self,graph,p,r,s):\n",
    "        self.graphics=graph\n",
    "        super().__init__(p,r,s)\n",
    "\n",
    "professional=professional_laptop(\"800mah\",\"i5\",\"8gb\",512)\n",
    "\n",
    "print(\"professional laptop\",professional.processor,professional.ram,professional.storage,professional.battery)"
   ]
  },
  {
   "cell_type": "code",
   "execution_count": 5,
   "id": "909db27e-1a13-466b-b579-a1f199ff701c",
   "metadata": {},
   "outputs": [
    {
     "name": "stdout",
     "output_type": "stream",
     "text": [
      "Ticket booked Fare Price will be:  2075\n"
     ]
    }
   ],
   "source": [
    "##write a program to demonstrate the working of a railway ticket booking create required classes like , ticket class| general ticket | sleeper ticket| ac ticket|first class ticket\n",
    "\n",
    "class ticket:\n",
    "   \n",
    "    def __init__(self,D):\n",
    "        self.distance = int(D)\n",
    "        self.farePrice = None\n",
    "\n",
    "class gen(ticket):\n",
    "    def __init__(self,D):\n",
    "        super().__init__(D)\n",
    "    def print_ticket(self):\n",
    "        self.farePrice=50+(self.distance*2)\n",
    "        return self.farePrice\n",
    "        \n",
    "\n",
    "\n",
    "class slp(gen):\n",
    "    def __init__(self,D):\n",
    "        super().__init__(D)\n",
    "\n",
    "    def print_ticket(self):\n",
    "        self.farePrice=super().print_ticket()+(2*self.distance)\n",
    "        return self.farePrice\n",
    "\n",
    "class AC(slp):\n",
    "    def __init__(self,D):\n",
    "        super().__init__(D)\n",
    "    def print_ticket(self):\n",
    "        self.farePrice=super().print_ticket()+(4*self.distance)\n",
    "        return self.farePrice\n",
    "\n",
    "class FC(slp):\n",
    "    def __init__(self,D):\n",
    "        super().__init__(D)\n",
    "    def print_ticket(self):\n",
    "        self.farePrice=super().print_ticket()+(5*self.distance)\n",
    "        return self.farePrice\n",
    "\n",
    "\n",
    "jur = FC(225)\n",
    "print(\"Ticket booked Fare Price will be: \",jur.print_ticket())"
   ]
  },
  {
   "cell_type": "code",
   "execution_count": null,
   "id": "700c41fd-82cc-4473-a891-2fabea7f6c64",
   "metadata": {},
   "outputs": [],
   "source": []
  }
 ],
 "metadata": {
  "kernelspec": {
   "display_name": "Python 3 (ipykernel)",
   "language": "python",
   "name": "python3"
  },
  "language_info": {
   "codemirror_mode": {
    "name": "ipython",
    "version": 3
   },
   "file_extension": ".py",
   "mimetype": "text/x-python",
   "name": "python",
   "nbconvert_exporter": "python",
   "pygments_lexer": "ipython3",
   "version": "3.10.2"
  }
 },
 "nbformat": 4,
 "nbformat_minor": 5
}
