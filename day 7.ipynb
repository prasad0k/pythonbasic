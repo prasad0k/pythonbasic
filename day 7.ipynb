{
 "cells": [
  {
   "cell_type": "code",
   "execution_count": 1,
   "id": "729ebe1c-d533-4b53-b9e3-4b04312aa841",
   "metadata": {},
   "outputs": [
    {
     "name": "stdout",
     "output_type": "stream",
     "text": [
      "19\n"
     ]
    }
   ],
   "source": [
    "l=[2,4,6,1,3,7,4,6,9,3,6,8,3,6,4,1,3,9,6,4,5,6,8,3,7,3,6,8]\n",
    "#find the maximum sum of any 3 consecutive elements of this array\n",
    "max=0\n",
    "for x in range (0,len (l)-2):\n",
    "    sum=l[x]+l[x+1]+l[x+2]\n",
    "    if(max<sum):\n",
    "        max=sum\n",
    "\n",
    "print(max)"
   ]
  },
  {
   "cell_type": "code",
   "execution_count": 5,
   "id": "af3b2333-143a-45bf-bf52-9c039a9721ff",
   "metadata": {},
   "outputs": [
    {
     "name": "stdin",
     "output_type": "stream",
     "text": [
      "enter consecutive number: 8\n"
     ]
    },
    {
     "name": "stdout",
     "output_type": "stream",
     "text": [
      "48\n"
     ]
    }
   ],
   "source": [
    " max=0\n",
    "con=int(input(\"enter consecutive number:\"))\n",
    "for x in range(0,len(l)-con):\n",
    "    s=0\n",
    "    for j in range(0,con):\n",
    "        s=s+l[x+j]\n",
    "    if max<s:\n",
    "        max=s\n",
    "\n",
    "print(max)"
   ]
  },
  {
   "cell_type": "code",
   "execution_count": 7,
   "id": "69897b1d-5295-4df6-802d-08e269ad82f0",
   "metadata": {},
   "outputs": [
    {
     "name": "stdin",
     "output_type": "stream",
     "text": [
      "enter consecutive number: 4\n"
     ]
    },
    {
     "name": "stdout",
     "output_type": "stream",
     "text": [
      "26\n"
     ]
    }
   ],
   "source": [
    "maxsum = 0\n",
    "sum = 0\n",
    "con = int(input(\"enter consecutive number:\"))\n",
    "start = 0\n",
    "end = 0\n",
    "\n",
    "for i in range(len(l)):\n",
    "    sum += l[i]\n",
    "    if i >= con - 1:\n",
    "        if sum > maxsum:\n",
    "            maxsum = sum\n",
    "        sum -= l[start]\n",
    "        start += 1\n",
    "        end += 1\n",
    "\n",
    "print(maxsum)"
   ]
  },
  {
   "cell_type": "code",
   "execution_count": 7,
   "id": "9e6fb73e-867e-4641-9852-a29d83511a8a",
   "metadata": {},
   "outputs": [
    {
     "name": "stdout",
     "output_type": "stream",
     "text": [
      "[1, 4, 5, 6, 7, 8, 9]\n"
     ]
    }
   ],
   "source": [
    "##bubble sort\n",
    "\n",
    "arr=[5,4,8,1,9,6,7]\n",
    "for i in range (0,len(arr)):\n",
    "    for j in range(0,len(arr)-1):\n",
    "     if arr[j]>arr[j+1]:\n",
    "         temp=arr[j]\n",
    "         arr[j]=arr[j+1]\n",
    "         arr[j+1]=temp\n",
    "         \n",
    "print(arr)\n",
    "    "
   ]
  },
  {
   "cell_type": "code",
   "execution_count": 3,
   "id": "b341bc0f-15a9-4340-a763-e691d4c64edf",
   "metadata": {},
   "outputs": [
    {
     "name": "stdout",
     "output_type": "stream",
     "text": [
      "[12, 5, 6, 11, 13]\n"
     ]
    }
   ],
   "source": [
    "##insertion sort\n",
    "arr=[12,11,13,5,6]\n",
    "for i in range (1,len(arr)):\n",
    "    temp=arr[i]\n",
    "    j=i-1\n",
    "    while j>0 and temp < arr[j]:\n",
    "        arr[j+1]=arr[j]\n",
    "        j -=1\n",
    "        arr[j+1]=temp\n",
    "\n",
    "print(arr)\n"
   ]
  },
  {
   "cell_type": "code",
   "execution_count": 4,
   "id": "18ec34f8-a850-455f-82ae-ed236dea8fb9",
   "metadata": {},
   "outputs": [
    {
     "name": "stdout",
     "output_type": "stream",
     "text": [
      "[1, 4, 5, 6, 7, 8, 9]\n"
     ]
    }
   ],
   "source": [
    "##selection sort\n",
    "arr=[5,4,8,1,9,6,7]\n",
    "for i in range(0,len(arr)):\n",
    "    min_idx=i\n",
    "    for j in range(i+1,len(arr)):\n",
    "        if arr[min_idx]>arr[j]:\n",
    "            min_idx=j\n",
    "    temp=arr[i]\n",
    "    arr[i]=arr[min_idx]\n",
    "    arr[min_idx]=temp\n",
    "\n",
    "print(arr)\n"
   ]
  },
  {
   "cell_type": "code",
   "execution_count": 3,
   "id": "f3989340-c0bb-4df3-87a2-84fe9e915416",
   "metadata": {},
   "outputs": [
    {
     "name": "stdout",
     "output_type": "stream",
     "text": [
      "[9, 13, 21, 23, 24, 35, 43, 45, 46, 47, 48, 49, 54, 57, 65, 66, 67, 68, 73, 78, 86, 87, 89, 92, 95, 97]\n"
     ]
    },
    {
     "name": "stdin",
     "output_type": "stream",
     "text": [
      " 43\n"
     ]
    },
    {
     "name": "stdout",
     "output_type": "stream",
     "text": [
      "index of element is 6\n",
      "low 0 High 26 mid 13\n",
      "low 0 High 12 mid 6\n",
      "Enter Found at  6\n"
     ]
    }
   ],
   "source": [
    "L=[23,45,67,87,65,43,54,35,21,9,89,78,97,68,95,57,48,86,73,92,13,66,46,49,24,47]\n",
    "L.sort()\n",
    "print(L)\n",
    "low=0\n",
    "high=len(L)\n",
    "src=int(input())\n",
    "try:\n",
    "    print(\"index of element is\",L.index(src))\n",
    "except:\n",
    "    print(\"item not in list\")\n",
    "Flag=0\n",
    "while low<high:\n",
    "    mid=int((low+high)/2)\n",
    "    print(\"low\",low,\"High\",high,\"mid\",mid)\n",
    "    if src<L[mid]:\n",
    "        high=mid-1\n",
    "    elif src>L[mid]:\n",
    "        low=mid+1\n",
    "    else:\n",
    "        Flag=1\n",
    "        break;\n",
    "if Flag==1:\n",
    "    print(\"Enter Found at \",mid)\n",
    "else:\n",
    "    print(\"Enter not Found \",mid)"
   ]
  },
  {
   "cell_type": "code",
   "execution_count": 7,
   "id": "c2a23d86-197b-4a73-a64c-845429794701",
   "metadata": {},
   "outputs": [
    {
     "name": "stdin",
     "output_type": "stream",
     "text": [
      " i am a (boy)\n"
     ]
    },
    {
     "name": "stdout",
     "output_type": "stream",
     "text": [
      "valid string\n"
     ]
    }
   ],
   "source": [
    "\n",
    "S=input()\n",
    "x=y=z=0\n",
    "for c in S:\n",
    "    match (c):\n",
    "        case '(' :x+=1\n",
    "        case ')' :x-=1\n",
    "        case '{' :y+=1\n",
    "        case '}' :y-=1\n",
    "        case '[' :z+=1\n",
    "        case ']' :z-=1\n",
    "        case _ :continue\n",
    "if x+y+z==0:\n",
    "    print(\"valid string\")\n",
    "else:\n",
    "    print(\"invalid string\")"
   ]
  },
  {
   "cell_type": "code",
   "execution_count": 10,
   "id": "263cbe68-69c7-49f0-8a1a-c1b123fc21b9",
   "metadata": {},
   "outputs": [
    {
     "name": "stdout",
     "output_type": "stream",
     "text": [
      "[1, 20, 56, 90]\n",
      "56\n",
      "20\n",
      "1\n"
     ]
    }
   ],
   "source": [
    "stack=[]\n",
    "stack.append(1)\n",
    "stack.append(20)\n",
    "stack.append(56)\n",
    "stack.append(90)\n",
    "print(stack)\n",
    "stack.pop()\n",
    "for i in range(len(stack)-1,-1,-1):\n",
    "    print(stack[i])"
   ]
  },
  {
   "cell_type": "code",
   "execution_count": 12,
   "id": "682cf29a-989a-4e65-9de6-257fa7889338",
   "metadata": {},
   "outputs": [
    {
     "name": "stdout",
     "output_type": "stream",
     "text": [
      "[3, 66, 17, 90]\n",
      "deleted element: 3\n",
      "[66, 17, 90]\n"
     ]
    }
   ],
   "source": [
    "queue=[]\n",
    "queue.append(3)\n",
    "queue.append(66)\n",
    "queue.append(17)\n",
    "queue.append(90)\n",
    "print(queue)\n",
    "print(\"deleted element:\",queue.pop(0))\n",
    "print(queue)\n"
   ]
  },
  {
   "cell_type": "code",
   "execution_count": null,
   "id": "a3563af7-06cf-4ceb-b0b5-6733192c6429",
   "metadata": {},
   "outputs": [],
   "source": []
  }
 ],
 "metadata": {
  "kernelspec": {
   "display_name": "Python 3 (ipykernel)",
   "language": "python",
   "name": "python3"
  },
  "language_info": {
   "codemirror_mode": {
    "name": "ipython",
    "version": 3
   },
   "file_extension": ".py",
   "mimetype": "text/x-python",
   "name": "python",
   "nbconvert_exporter": "python",
   "pygments_lexer": "ipython3",
   "version": "3.10.2"
  }
 },
 "nbformat": 4,
 "nbformat_minor": 5
}
