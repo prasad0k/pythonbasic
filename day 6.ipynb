{
 "cells": [
  {
   "cell_type": "code",
   "execution_count": 26,
   "id": "331fdb1f-198d-433c-9892-bc61aba93eb1",
   "metadata": {},
   "outputs": [
    {
     "name": "stdout",
     "output_type": "stream",
     "text": [
      "black\n",
      "110mph\n",
      "2\n",
      "6\n",
      "90000\n",
      "KA34-2398\n"
     ]
    }
   ],
   "source": [
    "class vehicle:\n",
    "    def __init__(self,eng,reg,price,colour):\n",
    "            self.engine=eng\n",
    "            self.register=reg\n",
    "            self.price=price\n",
    "            self.colour=colour   \n",
    "class car(vehicle):\n",
    "    def __init__(self,t,p,s,eng,reg,price,colour):\n",
    "        super().__init__(eng,reg,price,colour)\n",
    "        self.type=t\n",
    "        self.noofpassenger=p\n",
    "        self.maxspeed=s\n",
    "class truck(vehicle):\n",
    "    def __init__(self,a,c,eng,reg,price,colour):\n",
    "        super().__init__(eng,reg,price,colour)\n",
    "        self.numberofaxle=a\n",
    "        self.loadcapacity=c\n",
    "        \n",
    "if __name__==\"__main__\":\n",
    "    wpor = truck(90000,\"KA34-2398\",\"black\",\"110mph\",2,6)\n",
    "    print(wpor.engine)\n",
    "    print(wpor.register)\n",
    "    print(wpor.price)\n",
    "    print(wpor.colour)\n",
    "    print(wpor.numberofaxle)\n",
    "    print(wpor.loadcapacity)"
   ]
  },
  {
   "cell_type": "code",
   "execution_count": 24,
   "id": "46568cbc-6627-4a7c-9673-797d5f57f25c",
   "metadata": {},
   "outputs": [
    {
     "name": "stdout",
     "output_type": "stream",
     "text": [
      "40000\n",
      "spine\n",
      "ravindran\n",
      "3BR22BT001\n",
      "varahi\n"
     ]
    }
   ],
   "source": [
    "class employee:\n",
    "    def __init__(self,eid,en,es):\n",
    "        self.eid=eid\n",
    "        self.ename=en\n",
    "        self.esalary=es\n",
    "\n",
    "class staff(employee):\n",
    "    def __init__(self,wt,wa,eid,en,es):\n",
    "        super().__init__(eid,en,es)\n",
    "        self.worktype=wt\n",
    "        self.workarea=wa\n",
    "\n",
    "class developer(employee):\n",
    "    def __init__(self,mod,te,expe,eid,en,es):\n",
    "        super().__init__(eid,en,es)\n",
    "        self.module=mod\n",
    "        self.tech=te\n",
    "        self.experience=expe\n",
    "\n",
    "class manager(employee):\n",
    "    def __init__(self,proj,cl,eid,en,es):\n",
    "        super().__init__(eid,en,es)\n",
    "        self.project=proj\n",
    "        self.clientname=cl\n",
    "\n",
    "if __name__==\"__main__\":\n",
    "    am=manager(\"3BR22BT001\",\"varahi\",40000,\"spine\",\"ravindran\")\n",
    "    print(am.eid)\n",
    "    print(am.ename)\n",
    "    print(am.esalary)\n",
    "    print(am.project)\n",
    "    print(am.clientname)\n",
    "    \n"
   ]
  },
  {
   "cell_type": "code",
   "execution_count": 6,
   "id": "b2c451be-83b8-4e02-88b0-618e6dc15199",
   "metadata": {},
   "outputs": [
    {
     "name": "stdin",
     "output_type": "stream",
     "text": [
      "Enter No.of lines: 5\n"
     ]
    },
    {
     "name": "stdout",
     "output_type": "stream",
     "text": [
      "\n",
      "* \n",
      "* * \n",
      "* * * \n",
      "* * * * \n",
      "* * * * * \n"
     ]
    }
   ],
   "source": [
    "#Format Pattern printing....\n",
    "n=int(input(\"Enter No.of lines:\"))\n",
    "for i in range(n+1,0,-1):\n",
    "    for j in range(i,n+1):\n",
    "        print(\"*\",end=\" \")\n",
    "    print()"
   ]
  },
  {
   "cell_type": "code",
   "execution_count": 7,
   "id": "89bd4b92-075b-4a83-b05d-2823fba06f3e",
   "metadata": {},
   "outputs": [
    {
     "name": "stdin",
     "output_type": "stream",
     "text": [
      "Enter No.of lines: 5\n"
     ]
    },
    {
     "name": "stdout",
     "output_type": "stream",
     "text": [
      "* * * * * * \n",
      "* * * * * \n",
      "* * * * \n",
      "* * * \n",
      "* * \n",
      "* \n"
     ]
    }
   ],
   "source": [
    "#Format Pattern printing....\n",
    "n=int(input(\"Enter No.of lines:\"))\n",
    "for i in range(0,n+1):\n",
    "    for j in range(i,n+1):\n",
    "        print(\"*\",end=\" \")\n",
    "    print()"
   ]
  },
  {
   "cell_type": "code",
   "execution_count": 8,
   "id": "7166e80f-e236-4816-9f0e-4d15866ffd29",
   "metadata": {},
   "outputs": [
    {
     "name": "stdin",
     "output_type": "stream",
     "text": [
      "Enter No.of lines: 5\n"
     ]
    },
    {
     "name": "stdout",
     "output_type": "stream",
     "text": [
      "* * * * * * \n",
      "* * * * * * \n",
      "* * * * * * \n",
      "* * * * * * \n",
      "* * * * * * \n",
      "* * * * * * \n"
     ]
    }
   ],
   "source": [
    "n=int(input(\"Enter No.of lines:\"))\n",
    "for i in range(0,n+1):\n",
    "    for j in range(0,n+1):\n",
    "        print(\"*\",end=\" \")\n",
    "    print()"
   ]
  },
  {
   "cell_type": "code",
   "execution_count": 12,
   "id": "9661588c-5c98-45e9-b743-5c0d2dbd82a9",
   "metadata": {},
   "outputs": [
    {
     "name": "stdin",
     "output_type": "stream",
     "text": [
      "Enter No.of lines: 2\n"
     ]
    },
    {
     "name": "stdout",
     "output_type": "stream",
     "text": [
      "1 2 3 \n",
      "4 5 6 \n",
      "7 8 9 \n"
     ]
    }
   ],
   "source": [
    "n=int(input(\"Enter No.of lines:\"))\n",
    "k=0\n",
    "for i in range(0,n+1):\n",
    "    for j in range(0,n+1):\n",
    "        k+=1\n",
    "        print(k,end=\" \")\n",
    "    print()"
   ]
  },
  {
   "cell_type": "code",
   "execution_count": null,
   "id": "f1c852f8-f100-4577-a487-912098219758",
   "metadata": {},
   "outputs": [],
   "source": []
  }
 ],
 "metadata": {
  "kernelspec": {
   "display_name": "Python 3 (ipykernel)",
   "language": "python",
   "name": "python3"
  },
  "language_info": {
   "codemirror_mode": {
    "name": "ipython",
    "version": 3
   },
   "file_extension": ".py",
   "mimetype": "text/x-python",
   "name": "python",
   "nbconvert_exporter": "python",
   "pygments_lexer": "ipython3",
   "version": "3.10.2"
  }
 },
 "nbformat": 4,
 "nbformat_minor": 5
}
