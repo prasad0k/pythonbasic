{
 "cells": [
  {
   "cell_type": "code",
   "execution_count": 1,
   "id": "78ba2159-543d-43b7-8713-363897f29264",
   "metadata": {},
   "outputs": [
    {
     "name": "stdout",
     "output_type": "stream",
     "text": [
      "the sum of 1.5 and 6.3is-4.8\n"
     ]
    }
   ],
   "source": [
    "num1 = 1.5\n",
    "num2 = 6.3\n",
    "sum = num1-num2\n",
    "print('the sum of {0} and {1}is{2}'.format(num1,num2,sum) )\n"
   ]
  },
  {
   "cell_type": "code",
   "execution_count": 3,
   "id": "28c50e11-afea-44a5-bc06-f05c44e8e574",
   "metadata": {
    "scrolled": true
   },
   "outputs": [
    {
     "name": "stdout",
     "output_type": "stream",
     "text": [
      "[10, 11]\n",
      "<class 'list'>\n",
      "(23, 24)\n",
      "<class 'tuple'>\n",
      "{1: 'hi', 2: 'amigo'}\n",
      "<class 'dict'>\n",
      "range(1, 10)\n",
      "<class 'range'>\n"
     ]
    }
   ],
   "source": [
    "a=[10,11]\n",
    "print(a)\n",
    "print(type(a))\n",
    "\n",
    "a=(23,24)\n",
    "print(a)\n",
    "print(type(a))\n",
    "\n",
    "a={1:\"hi\",2:\"amigo\"}\n",
    "print(a)\n",
    "print(type(a))\n",
    "\n",
    "a=range(1,10)\n",
    "print(a)\n",
    "print(type(a))\n",
    "\n",
    "\n"
   ]
  },
  {
   "cell_type": "code",
   "execution_count": 9,
   "id": "c0db5ece-4dc8-4170-ae13-372570cff866",
   "metadata": {},
   "outputs": [
    {
     "name": "stdout",
     "output_type": "stream",
     "text": [
      "10\n",
      "2\n",
      "3\n"
     ]
    }
   ],
   "source": [
    "a,b,c=(10,2,3)\n",
    "print(a)\n",
    "print(b)\n",
    "print(c)"
   ]
  },
  {
   "cell_type": "code",
   "execution_count": 1,
   "id": "280f4498-0a1a-4cd7-80d1-e4a47bfe150a",
   "metadata": {},
   "outputs": [
    {
     "name": "stdout",
     "output_type": "stream",
     "text": [
      "10\n",
      "10\n",
      "10\n"
     ]
    }
   ],
   "source": [
    "a=b=c=10\n",
    "print(a)\n",
    "print(b)\n",
    "print(c)"
   ]
  },
  {
   "cell_type": "markdown",
   "id": "548536e3-e357-4073-b0f9-1092fe8a949c",
   "metadata": {},
   "source": [
    "# a=input()\n",
    "b=input()\n",
    "c=int(a)+int(b)\n",
    "print(c)"
   ]
  },
  {
   "cell_type": "code",
   "execution_count": null,
   "id": "b88d4f9d-2ca6-41f2-a5fb-0c1dfb11bd29",
   "metadata": {},
   "outputs": [],
   "source": []
  },
  {
   "cell_type": "code",
   "execution_count": null,
   "id": "b5e9cea3-0832-42e2-941b-b1fda742c1d6",
   "metadata": {},
   "outputs": [],
   "source": []
  }
 ],
 "metadata": {
  "kernelspec": {
   "display_name": "Python 3 (ipykernel)",
   "language": "python",
   "name": "python3"
  },
  "language_info": {
   "codemirror_mode": {
    "name": "ipython",
    "version": 3
   },
   "file_extension": ".py",
   "mimetype": "text/x-python",
   "name": "python",
   "nbconvert_exporter": "python",
   "pygments_lexer": "ipython3",
   "version": "3.12.3"
  }
 },
 "nbformat": 4,
 "nbformat_minor": 5
}
