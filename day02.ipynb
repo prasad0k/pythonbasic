{
 "cells": [
  {
   "cell_type": "code",
   "execution_count": null,
   "id": "05325e0a-5d06-4564-bc99-1fbe61082f91",
   "metadata": {},
   "outputs": [],
   "source": [
    "\n",
    "\n"
   ]
  },
  {
   "cell_type": "code",
   "execution_count": null,
   "id": "4901ed8e-d181-42b5-9ccb-64880e585461",
   "metadata": {},
   "outputs": [],
   "source": []
  },
  {
   "cell_type": "markdown",
   "id": "bcb53a4f-f69f-4f72-92ce-ee6699651b8b",
   "metadata": {},
   "source": [
    "name=input(\"enter your name\")\n",
    "age=int(input(\"enter your age\"))\n",
    "if age>=18:\n",
    "    print(name)\n",
    "    print(\"eligible\")\n",
    "else:\n",
    "    print(name)\n",
    "    print(\"not eligib1le\")"
   ]
  },
  {
   "cell_type": "code",
   "execution_count": null,
   "id": "369191a7-d2bb-4b71-8b94-87c045dd9b08",
   "metadata": {},
   "outputs": [],
   "source": [
    "a=int(input())\n",
    "b=int(input())\n",
    "c=int(input())\n",
    "if a>b:\n",
    "    if a>c:\n",
    "        print(\"a is largest\")\n",
    "    else:\n",
    "        print(\"c is largest\")\n",
    "else:\n",
    "    if b>c:\n",
    "        print(\"b is largest\")\n",
    "    else:\n",
    "        print(\"c is largest\")"
   ]
  },
  {
   "cell_type": "code",
   "execution_count": null,
   "id": "25c30e92-c024-4b8f-8579-720e07ed2624",
   "metadata": {},
   "outputs": [],
   "source": [
    "marks=int(input(\"enter the marks:\"))\n",
    "if marks>=90 and marks<100:\n",
    "    print(\"grade is A+\")\n",
    "else:\n",
    "    if marks>=80 and marks<90:\n",
    "        print(\"grade is A\")\n",
    "    else:\n",
    "        if marks>=70 and marks<80:\n",
    "            print(\"grade is B+\")\n",
    "        else:\n",
    "            if marks>=60 and marks<70:\n",
    "             print(\"grade is B+\")\n",
    "            else:\n",
    "             if marks>=50 and marks<60:\n",
    "                 print(\"grade is B\")\n",
    "             else:\n",
    "                if marks>=40 and marks<50:\n",
    "                    print(\"grade is c\")\n"
   ]
  },
  {
   "cell_type": "code",
   "execution_count": null,
   "id": "7644d740-342a-4c0a-82bb-95aa7849f9e0",
   "metadata": {},
   "outputs": [],
   "source": [
    "day=int(input(\"enter the day number:\"))\n",
    "match day:\n",
    "    case 1:print(\"sunday\")\n",
    "    case 2:print(\"monday\")\n",
    "    case 3:print(\"tuesday\")\n",
    "    case 4:print(\"wednesday\")\n",
    "    case 5:print(\"thursday\")\n",
    "    case 6:print(\"friday\")\n",
    "    case 7:print(\"saturday \")\n",
    "    case _:print(\"invalid\")"
   ]
  },
  {
   "cell_type": "code",
   "execution_count": null,
   "id": "29abab71-852e-45cd-9fb4-00ade9b026d3",
   "metadata": {},
   "outputs": [],
   "source": [
    "n=10 \n",
    "\n",
    "for i in range(1,n+1):\n",
    "    for j in range(1,i+1):\n",
    "         print(\"* \",end=\"\")\n",
    "    print(\"\\r\")\n",
    "for i in range(6,0,-1):\n",
    "    for j in range(1,i+1):\n",
    "         print(\"* \",end=\"\")\n",
    "    print(\"\\r\")"
   ]
  },
  {
   "cell_type": "code",
   "execution_count": null,
   "id": "45c5986b-8681-4862-9902-3bea17201b66",
   "metadata": {},
   "outputs": [],
   "source": [
    "a=0\n",
    "b=1\n",
    "n=int(input(\"Enter the n: \"))\n",
    "print(a,b,end=\" \")\n",
    "for i in range(0,n-2):\n",
    "    c=a+b\n",
    "    print(c,end=\" \")\n",
    "    a=b\n",
    "    b=c"
   ]
  },
  {
   "cell_type": "code",
   "execution_count": null,
   "id": "707efeeb-8a50-40b2-8d53-6555ff63d50b",
   "metadata": {},
   "outputs": [],
   "source": []
  },
  {
   "cell_type": "code",
   "execution_count": null,
   "id": "258b7ab4-1c86-4e8d-b670-1622aa4b1f4c",
   "metadata": {},
   "outputs": [],
   "source": []
  },
  {
   "cell_type": "code",
   "execution_count": null,
   "id": "6bdb0a8f-5e20-4b6d-81f0-28b41fe31d5a",
   "metadata": {},
   "outputs": [],
   "source": []
  }
 ],
 "metadata": {
  "kernelspec": {
   "display_name": "Python 3 (ipykernel)",
   "language": "python",
   "name": "python3"
  },
  "language_info": {
   "codemirror_mode": {
    "name": "ipython",
    "version": 3
   },
   "file_extension": ".py",
   "mimetype": "text/x-python",
   "name": "python",
   "nbconvert_exporter": "python",
   "pygments_lexer": "ipython3",
   "version": "3.12.3"
  }
 },
 "nbformat": 4,
 "nbformat_minor": 5
}
