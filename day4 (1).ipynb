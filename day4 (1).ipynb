{
 "cells": [
  {
   "cell_type": "code",
   "execution_count": 27,
   "id": "926da5d8-bbed-4b4a-a5c8-41a7acfc5457",
   "metadata": {},
   "outputs": [
    {
     "name": "stdin",
     "output_type": "stream",
     "text": [
      " 17\n"
     ]
    },
    {
     "name": "stdout",
     "output_type": "stream",
     "text": [
      "A is prime\n"
     ]
    }
   ],
   "source": [
    "n=int(input())\n",
    "for x in range(2,int(n**0.5)+1):\n",
    " if n%x==0:\n",
    "    print(\"A not prime\")\n",
    "    break\n",
    "else:\n",
    "    print(\"A is prime\")"
   ]
  },
  {
   "cell_type": "markdown",
   "id": "65c1ecd1-3d1c-43b3-a311-30b5da57ec1e",
   "metadata": {},
   "source": [
    "file handlling\n",
    "\n",
    "create\n",
    "read\n",
    "update\n",
    "delete\n",
    "\n",
    "\n",
    "CRUD operation"
   ]
  },
  {
   "cell_type": "code",
   "execution_count": 13,
   "id": "a014b206-45df-4dc6-8795-512343aae0b6",
   "metadata": {},
   "outputs": [],
   "source": [
    "import os\n",
    "with open(\"file.txt\",'a')as f:\n",
    "    f.write(\"this ia rcb file\")\n",
    "    f.close()"
   ]
  },
  {
   "cell_type": "code",
   "execution_count": 8,
   "id": "722cd91e-db2a-49cf-9103-1c64bfb795a4",
   "metadata": {},
   "outputs": [
    {
     "name": "stdout",
     "output_type": "stream",
     "text": [
      "the is first kumar in file\n",
      "111\n"
     ]
    }
   ],
   "source": [
    "import os\n",
    "\n",
    "with open(\"file.txt\",'r')as f:\n",
    "     for a in f.read().split(\"\\n\"):\n",
    "         print(a)\n",
    "         print(\"111\")\n",
    "     f.close()\n",
    "         "
   ]
  },
  {
   "cell_type": "markdown",
   "id": "81e21167-6af5-417b-a760-37c4910ffb7b",
   "metadata": {},
   "source": [
    "w -> write\n",
    "r -> read\n",
    "w+ -> write & read\n",
    "r+ -> read & write\n",
    "a+ -> append & read"
   ]
  },
  {
   "cell_type": "code",
   "execution_count": 5,
   "id": "2df70787-2a69-4f15-860c-f7f03a9e0a52",
   "metadata": {},
   "outputs": [
    {
     "name": "stdin",
     "output_type": "stream",
     "text": [
      "enter the deg in celsiuos 37\n"
     ]
    },
    {
     "name": "stdout",
     "output_type": "stream",
     "text": [
      "98.6\n"
     ]
    }
   ],
   "source": [
    "## covert a temperature from celsius to fahrenheit \n",
    "\n",
    "c=int(input(\"enter the deg in celsiuos\"))\n",
    "f=(c*9/5)+32\n",
    "print(f)"
   ]
  },
  {
   "cell_type": "code",
   "execution_count": 6,
   "id": "5a86e5f7-67fb-424b-8119-eb3148109a5e",
   "metadata": {},
   "outputs": [
    {
     "name": "stdin",
     "output_type": "stream",
     "text": [
      "enter the names separeted by spaces: apple bananna orange mango\n"
     ]
    }
   ],
   "source": [
    "import os\n",
    "with open(\"fruit_names.txt\",'w')as f:\n",
    "    n=[x for x in input(\"enter the names separeted by spaces:\").split()]\n",
    "    for i in n:\n",
    "        f.write(i+\"\\n\")"
   ]
  },
  {
   "cell_type": "code",
   "execution_count": 3,
   "id": "6365546a-bc79-4adb-9e22-537ec75aff9f",
   "metadata": {},
   "outputs": [
    {
     "name": "stdin",
     "output_type": "stream",
     "text": [
      " i a oO u\n"
     ]
    },
    {
     "name": "stdout",
     "output_type": "stream",
     "text": [
      "count: 5\n"
     ]
    }
   ],
   "source": [
    "#count the number of vowels in a string.\n",
    "\n",
    "text=input()\n",
    "count=0\n",
    "for char in text:\n",
    "  if(char in\"aAeEiIoOuU\"):\n",
    "     count+=1\n",
    "print(\"count:\",count)"
   ]
  },
  {
   "cell_type": "code",
   "execution_count": 4,
   "id": "e4a40a19-72e4-4b35-8194-bb0dfe6cf8cb",
   "metadata": {},
   "outputs": [
    {
     "name": "stdout",
     "output_type": "stream",
     "text": [
      "89\n"
     ]
    }
   ],
   "source": [
    "#find the second largest element in a list.\n",
    "\n",
    "l=[12,23,45,67,89,44,55,88,99,]\n",
    "l.sort()\n",
    "print(l[-2])\n",
    "     "
   ]
  },
  {
   "cell_type": "code",
   "execution_count": 6,
   "id": "73fa334d-7d01-4265-aefc-3c49e22a31da",
   "metadata": {},
   "outputs": [
    {
     "name": "stdout",
     "output_type": "stream",
     "text": [
      "2\n"
     ]
    }
   ],
   "source": [
    "#count the occurrences of each element in a list.\n",
    "\n",
    "num=[1,2,3,4,5,6,7,7,56,56,56,56,78]\n",
    "count_ara=num.count(7)\n",
    "print(count_ara)\n"
   ]
  },
  {
   "cell_type": "code",
   "execution_count": 7,
   "id": "50d04c2c-2bc1-45c4-b8f9-f008e18220ab",
   "metadata": {},
   "outputs": [
    {
     "name": "stdout",
     "output_type": "stream",
     "text": [
      "3\n"
     ]
    }
   ],
   "source": [
    "#count the occurrences of each element in a list.\n",
    "char=['a','c','d','c','c']\n",
    "count_amigo=char.count('c')\n",
    "print(count_amigo)"
   ]
  },
  {
   "cell_type": "code",
   "execution_count": 12,
   "id": "5e078ec2-cca1-4144-b12b-551d3c9cc33a",
   "metadata": {},
   "outputs": [
    {
     "name": "stdout",
     "output_type": "stream",
     "text": [
      "2\n",
      "4\n",
      "6\n",
      "88\n",
      "66\n",
      "12\n",
      "90\n"
     ]
    }
   ],
   "source": [
    "#find the sum of all even numbers in a list.\n",
    "\n",
    "num=[1,2,4,6,0.4,5,88,66,12,89,90]\n",
    "\n",
    "for n in num :\n",
    "      if n % 2== 0:\n",
    "\n",
    "        print(n)"
   ]
  },
  {
   "cell_type": "code",
   "execution_count": 15,
   "id": "83651410-415e-40dc-b184-093227020121",
   "metadata": {},
   "outputs": [
    {
     "name": "stdout",
     "output_type": "stream",
     "text": [
      "kohli\n"
     ]
    }
   ],
   "source": [
    "#Reverse the words in a given sentence.\n",
    "str=\"ilhok\"\n",
    "new_str=str[::-1]\n",
    "print(new_str)"
   ]
  },
  {
   "cell_type": "code",
   "execution_count": null,
   "id": "96fba7d0-d722-4516-a4ab-4df016b6795f",
   "metadata": {},
   "outputs": [],
   "source": []
  }
 ],
 "metadata": {
  "kernelspec": {
   "display_name": "Python 3 (ipykernel)",
   "language": "python",
   "name": "python3"
  },
  "language_info": {
   "codemirror_mode": {
    "name": "ipython",
    "version": 3
   },
   "file_extension": ".py",
   "mimetype": "text/x-python",
   "name": "python",
   "nbconvert_exporter": "python",
   "pygments_lexer": "ipython3",
   "version": "3.10.2"
  }
 },
 "nbformat": 4,
 "nbformat_minor": 5
}
